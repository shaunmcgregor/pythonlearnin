{
 "cells": [
  {
   "cell_type": "code",
   "execution_count": 1,
   "metadata": {},
   "outputs": [],
   "source": [
    "import pandas as pd\n",
    "df = pd.read_csv(\"C:\\\\Users\\\\Shaun\\\\Documents\\\\GitHub\\\\pythonlearnin\\\\Batting\\\\test.csv\")"
   ]
  },
  {
   "cell_type": "code",
   "execution_count": 4,
   "metadata": {},
   "outputs": [
    {
     "data": {
      "text/plain": [
       "2019-2019    45\n",
       "2018-2019    44\n",
       "2018-2018    20\n",
       "2014-2019    18\n",
       "1889-1889    17\n",
       "             ..\n",
       "1885-1886     1\n",
       "1989-2013     1\n",
       "1923-1933     1\n",
       "1899-1906     1\n",
       "1926-1926     1\n",
       "Name: Span, Length: 1140, dtype: int64"
      ]
     },
     "execution_count": 4,
     "metadata": {},
     "output_type": "execute_result"
    }
   ],
   "source": [
    "\n",
    "df[\"Span\"].value_counts().sort_values(ascending=False)"
   ]
  },
  {
   "cell_type": "code",
   "execution_count": 10,
   "metadata": {},
   "outputs": [
    {
     "data": {
      "text/html": [
       "<div>\n",
       "<style scoped>\n",
       "    .dataframe tbody tr th:only-of-type {\n",
       "        vertical-align: middle;\n",
       "    }\n",
       "\n",
       "    .dataframe tbody tr th {\n",
       "        vertical-align: top;\n",
       "    }\n",
       "\n",
       "    .dataframe thead th {\n",
       "        text-align: right;\n",
       "    }\n",
       "</style>\n",
       "<table border=\"1\" class=\"dataframe\">\n",
       "  <thead>\n",
       "    <tr style=\"text-align: right;\">\n",
       "      <th></th>\n",
       "      <th>Player</th>\n",
       "      <th>Span</th>\n",
       "      <th>Mat</th>\n",
       "      <th>Inns</th>\n",
       "      <th>NO</th>\n",
       "      <th>Runs</th>\n",
       "      <th>HS</th>\n",
       "      <th>Ave</th>\n",
       "      <th>100</th>\n",
       "      <th>50</th>\n",
       "      <th>0</th>\n",
       "    </tr>\n",
       "  </thead>\n",
       "  <tbody>\n",
       "    <tr>\n",
       "      <th>4</th>\n",
       "      <td>AN Cook (ENG)</td>\n",
       "      <td>2006-2018</td>\n",
       "      <td>161</td>\n",
       "      <td>291</td>\n",
       "      <td>16</td>\n",
       "      <td>12472</td>\n",
       "      <td>294</td>\n",
       "      <td>45.35</td>\n",
       "      <td>33</td>\n",
       "      <td>57</td>\n",
       "      <td>9</td>\n",
       "    </tr>\n",
       "    <tr>\n",
       "      <th>5</th>\n",
       "      <td>KC Sangakkara (SL)</td>\n",
       "      <td>2000-2015</td>\n",
       "      <td>134</td>\n",
       "      <td>233</td>\n",
       "      <td>17</td>\n",
       "      <td>12400</td>\n",
       "      <td>319</td>\n",
       "      <td>57.4</td>\n",
       "      <td>38</td>\n",
       "      <td>52</td>\n",
       "      <td>11</td>\n",
       "    </tr>\n",
       "    <tr>\n",
       "      <th>12</th>\n",
       "      <td>Younis Khan (PAK)</td>\n",
       "      <td>2000-2017</td>\n",
       "      <td>118</td>\n",
       "      <td>213</td>\n",
       "      <td>19</td>\n",
       "      <td>10099</td>\n",
       "      <td>313</td>\n",
       "      <td>52.05</td>\n",
       "      <td>34</td>\n",
       "      <td>33</td>\n",
       "      <td>19</td>\n",
       "    </tr>\n",
       "    <tr>\n",
       "      <th>13</th>\n",
       "      <td>HM Amla (SA)</td>\n",
       "      <td>2004-2019</td>\n",
       "      <td>124</td>\n",
       "      <td>215</td>\n",
       "      <td>16</td>\n",
       "      <td>9282</td>\n",
       "      <td>311*</td>\n",
       "      <td>46.64</td>\n",
       "      <td>28</td>\n",
       "      <td>41</td>\n",
       "      <td>13</td>\n",
       "    </tr>\n",
       "    <tr>\n",
       "      <th>14</th>\n",
       "      <td>GC Smith (ICC/SA)</td>\n",
       "      <td>2002-2014</td>\n",
       "      <td>117</td>\n",
       "      <td>205</td>\n",
       "      <td>13</td>\n",
       "      <td>9265</td>\n",
       "      <td>277</td>\n",
       "      <td>48.25</td>\n",
       "      <td>27</td>\n",
       "      <td>38</td>\n",
       "      <td>11</td>\n",
       "    </tr>\n",
       "  </tbody>\n",
       "</table>\n",
       "</div>"
      ],
      "text/plain": [
       "                Player       Span  Mat Inns  NO   Runs    HS    Ave 100  50  \\\n",
       "4        AN Cook (ENG)  2006-2018  161  291  16  12472   294  45.35  33  57   \n",
       "5   KC Sangakkara (SL)  2000-2015  134  233  17  12400   319   57.4  38  52   \n",
       "12   Younis Khan (PAK)  2000-2017  118  213  19  10099   313  52.05  34  33   \n",
       "13        HM Amla (SA)  2004-2019  124  215  16   9282  311*  46.64  28  41   \n",
       "14   GC Smith (ICC/SA)  2002-2014  117  205  13   9265   277  48.25  27  38   \n",
       "\n",
       "     0  \n",
       "4    9  \n",
       "5   11  \n",
       "12  19  \n",
       "13  13  \n",
       "14  11  "
      ]
     },
     "execution_count": 10,
     "metadata": {},
     "output_type": "execute_result"
    }
   ],
   "source": [
    "df.drop(columns=[\"Unnamed: 0\",\"Unnamed: 11\"], inplace=True)\n",
    "spans = df[df[\"Span\"].str.startswith(\"20\")]\n",
    "spans.head()"
   ]
  }
 ],
 "metadata": {
  "kernelspec": {
   "display_name": "Python 3.10.6 64-bit (microsoft store)",
   "language": "python",
   "name": "python3"
  },
  "language_info": {
   "codemirror_mode": {
    "name": "ipython",
    "version": 3
   },
   "file_extension": ".py",
   "mimetype": "text/x-python",
   "name": "python",
   "nbconvert_exporter": "python",
   "pygments_lexer": "ipython3",
   "version": "3.10.6"
  },
  "orig_nbformat": 4,
  "vscode": {
   "interpreter": {
    "hash": "e512212120320149b780edf3747de0aeb2f70a10b1a5a94b6070f6e26b15f6f2"
   }
  }
 },
 "nbformat": 4,
 "nbformat_minor": 2
}
